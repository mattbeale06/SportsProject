{
 "cells": [
  {
   "cell_type": "markdown",
   "metadata": {},
   "source": [
    "All Packages I might need"
   ]
  },
  {
   "cell_type": "code",
   "execution_count": 1,
   "metadata": {},
   "outputs": [],
   "source": [
    "import numpy as np\n",
    "from numpy.random import randn\n",
    "\n",
    "import pandas as pd\n",
    "from pandas import Series, DataFrame\n",
    "from pandas.plotting import scatter_matrix\n",
    "\n",
    "import math as m\n",
    "\n",
    "import time as t"
   ]
  },
  {
   "cell_type": "markdown",
   "metadata": {},
   "source": [
    "All single-computation commands"
   ]
  },
  {
   "cell_type": "code",
   "execution_count": 17,
   "metadata": {},
   "outputs": [],
   "source": [
    "MLB=pd.read_csv('MLB_Final_Results.csv')\n",
    "MLB_DF=pd.DataFrame(MLB)\n",
    "p_MLB=2\n",
    "MLB_DF['PythagHome']=MLB_DF.apply(lambda x: x['HomeFor']**p_MLB/(x['HomeFor']**p_MLB+x['HomeAgainst']**p_MLB),axis=1)\n",
    "MLB_DF['PythagAway']=MLB_DF.apply(lambda x: x['AwayFor']**p_MLB/(x['AwayFor']**p_MLB+x['AwayAgainst']**p_MLB),axis=1)\n",
    "MLB_DF['Pythag']=MLB_DF.apply(lambda x: x['For']**p_MLB/(x['For']**p_MLB+x['Against']**p_MLB),axis=1)\n",
    "MLB_DF['SeasRank'] = MLB_DF.groupby(['Season'])['Pythag'].rank(method='first', ascending=False)\n",
    "\n",
    "MLB_DF.groupby('SeasRank').mean().to_csv('MLB_Averages.csv')\n",
    "MLB_Averages=MLB_DF.groupby('SeasRank').mean()\n",
    "\n",
    "HF_Avg=MLB_DF.HomeFor.mean()\n",
    "HA_Avg=MLB_DF.HomeAgainst.mean()\n",
    "HF_Avg,HA_Avg\n",
    "\n",
    "MLB_Sched=pd.DataFrame(pd.read_excel('MLB_Schedule_No_Div.xlsx'))\n",
    "\n",
    "def Sim(F,A):\n",
    "    r=np.random.rand()\n",
    "    p=F**p_MLB/(F**p_MLB+A**p_MLB)\n",
    "    if r<p:\n",
    "        return 1\n",
    "    elif r>p:\n",
    "        return 0\n",
    "    else:\n",
    "        return 0.5\n",
    "    \n",
    "def FullGameSim(HF,HA,AF,AA,Avg_HF,Avg_HA):\n",
    "    HF_Adj=(HF*AA)/Avg_HF\n",
    "    AF_Adj=(AF*HA)/Avg_HA\n",
    "    g=Sim(HF_Adj,AF_Adj)\n",
    "    return g,HF_Adj,AF_Adj\n"
   ]
  },
  {
   "cell_type": "markdown",
   "metadata": {},
   "source": [
    "All iterative simulations"
   ]
  },
  {
   "cell_type": "code",
   "execution_count": 21,
   "metadata": {},
   "outputs": [
    {
     "data": {
      "text/plain": [
       "10558.937043428421"
      ]
     },
     "execution_count": 21,
     "metadata": {},
     "output_type": "execute_result"
    }
   ],
   "source": [
    "t_start=t.time()\n",
    "n_sim=5000\n",
    "Results=[]\n",
    "for sim in range(0,n_sim):\n",
    "    MLB_Ranks=pd.DataFrame(data={'TeamID':MLB_Sched['Away ID'].unique(),'TeamRank':np.random.rand(30)})\n",
    "    MLB_Ranks.TeamRank=MLB_Ranks.TeamRank.rank(method='first', ascending=False) #replace randoms with ranks\n",
    "    MLB_Ranks['League']=MLB_Ranks['TeamID'].str[:2] #Convert to string, grab first 2\n",
    "    MLB_Ranks['Division']=MLB_Ranks['TeamID'].str[2:3] #convert to string, characters [2,3)\n",
    "    MLB_Ranks=MLB_Ranks.sort_values(by=['TeamID'])\n",
    "\n",
    "    MLB_Sched['AwayRank']=MLB_Sched.apply(lambda x: MLB_Ranks.loc[MLB_Ranks['TeamID'] == x['Away ID']].iloc[0,1] ,axis=1)\n",
    "    MLB_Sched['HomeRank']=MLB_Sched.apply(lambda x: MLB_Ranks.loc[MLB_Ranks['TeamID'] == x['Home ID']].iloc[0,1] ,axis=1)\n",
    "\n",
    "    MLB_Sched['HomeResult']=MLB_Sched.apply(lambda x: FullGameSim(\n",
    "        MLB_Averages.iloc[int(x['HomeRank']-1),2]\n",
    "        ,MLB_Averages.iloc[int(x['HomeRank']-1),1]\n",
    "        ,MLB_Averages.iloc[int(x['AwayRank']-1),7]\n",
    "        ,MLB_Averages.iloc[int(x['AwayRank']-1),8]\n",
    "        ,HF_Avg,HA_Avg)[0], axis=1)\n",
    "\n",
    "    MLB_Ranks['Result']=np.zeros(30)\n",
    "    for i in range(1,31):\n",
    "        MLB_Ranks.iloc[i-1,4]=(MLB_Sched.groupby('HomeRank').mean().HomeResult[MLB_Ranks.iloc[i-1,1]]+\n",
    "                                   (1-MLB_Sched.groupby('AwayRank').mean().HomeResult[MLB_Ranks.iloc[i-1,1]]))/2\n",
    "    MLB_Ranks['Wins']=162*MLB_Ranks['Result']\n",
    "    MLB_Ranks['Losses']=162*(1-MLB_Ranks['Result'])\n",
    "\n",
    "    MLB_Ranks['MLBRank']=MLB_Ranks.Result.rank(method='first', ascending=False)\n",
    "    MLB_Ranks['LeagueRank']=MLB_Ranks.groupby('League').Result.rank(method='first', ascending=False)\n",
    "    MLB_Ranks['DivRank']=MLB_Ranks.groupby(['League','Division']).Result.rank(method='first', ascending=False)\n",
    "    MLB_Ranks['LeagueSeed']=np.where(MLB_Ranks.DivRank==1,0,100)+MLB_Ranks.LeagueRank\n",
    "    MLB_Ranks['LeagueSeed']=MLB_Ranks.groupby('League').LeagueSeed.rank(method='first', ascending=True)\n",
    "    MLB_Ranks['PlayoffResult']='None' #Say \"none\" for each team. Playoff teams updated later\n",
    "    MLB_Ranks['Sim']=sim #save run number\n",
    "\n",
    "    MLB_Post_Sched=pd.read_excel('MLB_playoffs2.xlsx')\n",
    "    #Playoff Simulations\n",
    "    MLB_Post_Sched['Result']=np.NAN\n",
    "\n",
    "    #Set up seeds\n",
    "    if MLB_Ranks.loc[(MLB_Ranks.League=='NL')&(MLB_Ranks.LeagueSeed==1)].iloc[0,7]==1: #Higher Seed is NL\n",
    "        MLB_Post_Sched.HigherSeedID=MLB_Ranks.loc[(MLB_Ranks.League=='NL')&\n",
    "            (MLB_Ranks.LeagueSeed==1)].iloc[0,0] \n",
    "        MLB_Post_Sched.LowerSeedID=MLB_Ranks.loc[(MLB_Ranks.League=='AL')&\n",
    "            (MLB_Ranks.LeagueSeed==1)].iloc[0,0] \n",
    "    else: #Higher Seed is AL\n",
    "        MLB_Post_Sched.HigherSeedID=MLB_Ranks.loc[(MLB_Ranks.League=='AL')&\n",
    "            (MLB_Ranks.LeagueSeed==1)].iloc[0,0] \n",
    "        MLB_Post_Sched.LowerSeedID=MLB_Ranks.loc[(MLB_Ranks.League=='NL')&\n",
    "            (MLB_Ranks.LeagueSeed==1)].iloc[0,0]\n",
    "\n",
    "    #WS\n",
    "    HighRank=MLB_Ranks.loc[MLB_Ranks['TeamID'] == MLB_Post_Sched.iloc[0,6]].iloc[0,1] #Higher Seed Rank\n",
    "    LowRank=MLB_Ranks.loc[MLB_Ranks['TeamID'] == MLB_Post_Sched.iloc[0,7]].iloc[0,1] #Lower Seed Rank\n",
    "    HigherSeriesScore=0\n",
    "    LowerSeriesScore=0\n",
    "    for r in range(0,17):\n",
    "        if MLB_Post_Sched.iloc[r,5]=='Higher':#Higher Seed at home\n",
    "            g=FullGameSim(\n",
    "                MLB_Averages.iloc[int(HighRank-1),2]\n",
    "                ,MLB_Averages.iloc[int(HighRank-1),1]\n",
    "                ,MLB_Averages.iloc[int(LowRank-1),7]\n",
    "                ,MLB_Averages.iloc[int(LowRank-1),8]\n",
    "                ,HF_Avg,HA_Avg)[0]\n",
    "            if g==1:\n",
    "                MLB_Post_Sched.iloc[r,8]='Higher' #Higher seed won\n",
    "                HigherSeriesScore=HigherSeriesScore+1\n",
    "            else:\n",
    "                MLB_Post_Sched.iloc[r,8]='Lower'\n",
    "                LowerSeriesScore=LowerSeriesScore+1\n",
    "        else:\n",
    "            g=FullGameSim(\n",
    "                MLB_Averages.iloc[int(LowRank-1),2]\n",
    "                ,MLB_Averages.iloc[int(LowRank-1),1]\n",
    "                ,MLB_Averages.iloc[int(HighRank-1),7]\n",
    "                ,MLB_Averages.iloc[int(HighRank-1),8]\n",
    "                ,HF_Avg,HA_Avg)[0]\n",
    "            if g==0:\n",
    "                MLB_Post_Sched.iloc[r,8]='Higher'\n",
    "                HigherSeriesScore=HigherSeriesScore+1\n",
    "            else:\n",
    "                MLB_Post_Sched.iloc[r,8]='Lower'\n",
    "                LowerSeriesScore=LowerSeriesScore+1\n",
    "        if HigherSeriesScore==9: #Best of 17\n",
    "            MLB_Ranks.loc[MLB_Ranks.TeamID==MLB_Post_Sched.iloc[r,7],'PlayoffResult']='WS' #Lower seed loses WS\n",
    "            MLB_Ranks.loc[MLB_Ranks.TeamID==MLB_Post_Sched.iloc[r,6],'PlayoffResult']='Champ' #Higher seed wins WS\n",
    "            break\n",
    "        elif LowerSeriesScore==9:\n",
    "            MLB_Ranks.loc[MLB_Ranks.TeamID==MLB_Post_Sched.iloc[r,6],'PlayoffResult']='WS' #Higher seed loses WS\n",
    "            MLB_Ranks.loc[MLB_Ranks.TeamID==MLB_Post_Sched.iloc[r,7],'PlayoffResult']='Champ' #Lower seed wins WS\n",
    "            break\n",
    "            \n",
    "    #Append the results array\n",
    "    if sim==0:\n",
    "        Results=MLB_Ranks\n",
    "    else:\n",
    "        Results=Results.append(MLB_Ranks)\n",
    "\n",
    "t_total=t.time()-t_start\n",
    "t_total"
   ]
  },
  {
   "cell_type": "code",
   "execution_count": 23,
   "metadata": {},
   "outputs": [
    {
     "data": {
      "text/plain": [
       "<AxesSubplot:>"
      ]
     },
     "execution_count": 23,
     "metadata": {},
     "output_type": "execute_result"
    },
    {
     "data": {
      "image/png": "[encoded data removed]",
      "text/plain": [
       "<Figure size 576x216 with 1 Axes>"
      ]
     },
     "metadata": {
      "needs_background": "light"
     },
     "output_type": "display_data"
    }
   ],
   "source": [
    "Results.loc[Results.PlayoffResult=='Champ'].TeamRank.hist(bins=range(1,31),xlabelsize=10,figsize=(8,3))"
   ]
  },
  {
   "cell_type": "code",
   "execution_count": 22,
   "metadata": {},
   "outputs": [],
   "source": [
    "Results.to_csv('MLB_Simulation_Results2.csv')"
   ]
  },
  {
   "cell_type": "code",
   "execution_count": null,
   "metadata": {},
   "outputs": [],
   "source": []
  }
 ],
 "metadata": {
  "kernelspec": {
   "display_name": "Python 3",
   "language": "python",
   "name": "python3"
  },
  "language_info": {
   "codemirror_mode": {
    "name": "ipython",
    "version": 3
   },
   "file_extension": ".py",
   "mimetype": "text/x-python",
   "name": "python",
   "nbconvert_exporter": "python",
   "pygments_lexer": "ipython3",
   "version": "3.8.5"
  }
 },
 "nbformat": 4,
 "nbformat_minor": 4
}
