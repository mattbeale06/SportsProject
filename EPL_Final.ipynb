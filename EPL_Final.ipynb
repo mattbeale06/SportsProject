{
 "cells": [
  {
   "cell_type": "markdown",
   "metadata": {},
   "source": [
    "All Packages I might need"
   ]
  },
  {
   "cell_type": "code",
   "execution_count": 1,
   "metadata": {},
   "outputs": [],
   "source": [
    "import numpy as np\n",
    "from numpy.random import randn\n",
    "\n",
    "import pandas as pd\n",
    "from pandas import Series, DataFrame\n",
    "from pandas.plotting import scatter_matrix\n",
    "\n",
    "import matplotlib.pyplot as plt\n",
    "from matplotlib import rcParams\n",
    "\n",
    "from pylab import rcParams\n",
    "\n",
    "import seaborn as sb\n",
    "\n",
    "import math as m\n",
    "\n",
    "import time as t"
   ]
  },
  {
   "cell_type": "code",
   "execution_count": 2,
   "metadata": {},
   "outputs": [],
   "source": [
    "EPL=pd.read_csv('EPL_Scores_Clean.csv')\n",
    "EPL=EPL.drop(['FTR','HTHG','HTAG','HTR'],axis=1)\n",
    "EPL_DF=pd.DataFrame(EPL)"
   ]
  },
  {
   "cell_type": "code",
   "execution_count": 3,
   "metadata": {},
   "outputs": [],
   "source": [
    "def Result(F,A):\n",
    "    if F==A:\n",
    "        return 1/3\n",
    "    elif F>A:\n",
    "        return 1\n",
    "    else:\n",
    "        return 0"
   ]
  },
  {
   "cell_type": "code",
   "execution_count": 4,
   "metadata": {},
   "outputs": [],
   "source": [
    "EPL_DF_Home=EPL_DF.drop('AwayTeam',axis=1)\n",
    "EPL_DF_Home=EPL_DF_Home.rename(columns={'HomeTeam':'Team','FTHG':'HomeFor','FTAG':'HomeAgainst'})\n",
    "EPL_DF_Home['AwayFor']=np.NaN #empty road columns\n",
    "EPL_DF_Home['AwayAgainst']=np.NaN\n",
    "EPL_DF_Home['For']=EPL_DF_Home['HomeFor']\n",
    "EPL_DF_Home['Against']=EPL_DF_Home['HomeAgainst']\n",
    "EPL_DF_Home['HomeResult'] = EPL_DF_Home.apply(lambda row: Result(row['HomeFor'],row['HomeAgainst']),axis=1)\n",
    "EPL_DF_Home['AwayResult']=np.NaN\n",
    "EPL_DF_Home['Result']=EPL_DF_Home['HomeResult'] #result regardless of location (sum to see winner of league)\n",
    "\n",
    "EPL_DF_Away=EPL_DF.drop('HomeTeam',axis=1)\n",
    "EPL_DF_Away=EPL_DF_Away.rename(columns={'AwayTeam':'Team','FTHG':'AwayAgainst','FTAG':'AwayFor'})\n",
    "EPL_DF_Away['HomeFor']=np.NaN #empty road columns\n",
    "EPL_DF_Away['HomeAgainst']=np.NaN\n",
    "EPL_DF_Away['For']=EPL_DF_Away['AwayFor']\n",
    "EPL_DF_Away['Against']=EPL_DF_Away['AwayAgainst']\n",
    "EPL_DF_Away['AwayResult'] = EPL_DF_Away.apply(lambda row: Result(row['AwayFor'],row['AwayAgainst']),axis=1)\n",
    "EPL_DF_Away['HomeResult']=np.NaN\n",
    "EPL_DF_Away['Result']=EPL_DF_Away['AwayResult']\n",
    "\n",
    "EPL_DF_All=EPL_DF_Home.append(EPL_DF_Away,ignore_index=True)"
   ]
  },
  {
   "cell_type": "code",
   "execution_count": 5,
   "metadata": {},
   "outputs": [
    {
     "data": {
      "text/plain": [
       "(1880, 7600)"
      ]
     },
     "execution_count": 5,
     "metadata": {},
     "output_type": "execute_result"
    }
   ],
   "source": [
    "#How frequent are ties?\n",
    "EPL_DF_All[EPL_DF_All['Result']==1/3].Result.count(), EPL_DF_All['Result'].count()"
   ]
  },
  {
   "cell_type": "code",
   "execution_count": 6,
   "metadata": {},
   "outputs": [],
   "source": [
    "EPL_Results=EPL_DF_All.groupby(['Season','Team']).sum()\n"
   ]
  },
  {
   "cell_type": "code",
   "execution_count": 7,
   "metadata": {},
   "outputs": [],
   "source": [
    "EPL_DF=EPL_DF_All.groupby(['Season','Team']).mean()\n",
    "#EPL_Final.to_csv(r'EPL_Final_Results.csv',index=True,header=True)"
   ]
  },
  {
   "cell_type": "markdown",
   "metadata": {},
   "source": [
    "Pythagorean calculation doesn't work for EPL since ties award less total points. Use a simulation instead"
   ]
  },
  {
   "cell_type": "code",
   "execution_count": 8,
   "metadata": {},
   "outputs": [],
   "source": [
    "def PoissonSim(l,r):\n",
    "    t=0\n",
    "    k=0\n",
    "    while t<r:\n",
    "        t=t+((np.e**(-l))*(l**k))/m.factorial(k)\n",
    "        k=k+1\n",
    "    return k-1"
   ]
  },
  {
   "cell_type": "code",
   "execution_count": 9,
   "metadata": {},
   "outputs": [],
   "source": [
    "PoiDF=pd.DataFrame(np.random.rand(190),columns=['s']) #Data Frame of 1000 randoms(0,1)\n",
    "l=2.16 #Lambda example\n",
    "PoiDF['s'] = PoiDF.apply(lambda row: PoissonSim(l,row[0]),axis=1) #overwrite each random with sim"
   ]
  },
  {
   "cell_type": "code",
   "execution_count": 10,
   "metadata": {},
   "outputs": [
    {
     "data": {
      "text/plain": [
       "array([[<AxesSubplot:title={'center':'s'}>]], dtype=object)"
      ]
     },
     "execution_count": 10,
     "metadata": {},
     "output_type": "execute_result"
    },
    {
     "data": {
      "image/png": "[encoded data removed]",
      "text/plain": [
       "<Figure size 432x288 with 1 Axes>"
      ]
     },
     "metadata": {
      "needs_background": "light"
     },
     "output_type": "display_data"
    }
   ],
   "source": [
    "PoiDF.hist(bins=range(0,PoiDF.s.max()+2))"
   ]
  },
  {
   "cell_type": "code",
   "execution_count": 11,
   "metadata": {},
   "outputs": [],
   "source": [
    "max_test=4.1 #highest goals for to look at\n",
    "min_test=.1\n",
    "sims=10000 #num of sims per pair\n",
    "step=.1 #Step size\n",
    "steps=m.ceil((max_test-min_test)/step) # number of steps\n",
    "Sim_Array=np.zeros((steps,steps)) #Initialize empty results array\n",
    "l1_Array=np.arange(min_test,max_test,step) #Like Range, but makes array object\n",
    "l2_Array=np.arange(min_test,max_test,step)\n",
    "i=0\n",
    "j=0\n",
    "\n",
    "for f in l1_Array:\n",
    "    j=0\n",
    "    for a in l2_Array:\n",
    "        PoiDF=pd.DataFrame(np.random.rand(10000).reshape(5000,2),columns=['f','a']) #random array\n",
    "        PoiDF['s'] = PoiDF.apply(lambda row: Result(PoissonSim(f,row['f']),PoissonSim(a,row['a'])),axis=1) #new column with simulated result\n",
    "        Sim_Array[i,j]=PoiDF.s.mean() #mean into results array\n",
    "        j=j+1\n",
    "    i=i+1\n",
    "        \n",
    "df_final=pd.DataFrame(Sim_Array,columns=l2_Array,index=l1_Array) #save as dataframe with values of l1 and l2 as labels\n"
   ]
  },
  {
   "cell_type": "code",
   "execution_count": 13,
   "metadata": {},
   "outputs": [],
   "source": [
    "df_final.to_csv(r'EPL_Simulation.csv',index=True,header=True)"
   ]
  },
  {
   "cell_type": "markdown",
   "metadata": {},
   "source": [
    "Single-use commands"
   ]
  },
  {
   "cell_type": "code",
   "execution_count": 14,
   "metadata": {},
   "outputs": [],
   "source": [
    "p_EPL=1.25\n",
    "\n",
    "EPL_DF.reset_index(level=0, inplace=True)\n",
    "\n",
    "EPL_Matrix=pd.read_csv('EPL_Simulation.csv',index_col=0)\n",
    "EPL_Matrix=pd.DataFrame(EPL_Matrix)\n",
    "\n",
    "def EPL_Expected(F,A):\n",
    "    min_test=.1                             #minimum in table\n",
    "    step=.1                                 #Step size\n",
    "    r_1=m.floor((F-min_test)/step)          #lower row of table\n",
    "    c_1=m.floor((A-min_test)/step)          #lower col of table\n",
    "    r_2=r_1+1                               #Upper row of table\n",
    "    c_2=c_1+1                               #lower col of table\n",
    "    a=EPL_Matrix.iloc[r_1,c_1]              #upper left\n",
    "    b=EPL_Matrix.iloc[r_1,c_2]              #upper right\n",
    "    c=EPL_Matrix.iloc[r_2,c_1]              #lower left\n",
    "    d=EPL_Matrix.iloc[r_2,c_2]              #lower right\n",
    "    r_r=m.modf((F-min_test)/step)[0]        #mod F returns [frac,int] so just want frac component\n",
    "    c_r=m.modf((A-min_test)/step)[0]\n",
    "\n",
    "    if r_r<.5 and c_r<.5:                   #point in upper left\n",
    "        res=a+(c-a)*r_r+(b-a)*c_r\n",
    "    elif r_r<.5 and c_r>=.5:                #point in upper right\n",
    "        res=b+(c-a)*r_r-(b-a)*(1-c_r)\n",
    "    elif r_r>=.5 and c_r<.5:                #point in lower left\n",
    "        res=c-(c-a)*(1-r_r)+(b-a)*c_r\n",
    "    else:                                   #point in lower right\n",
    "        res=d-(c-a)*(1-r_r)-(b-a)*(1-c_r)\n",
    "\n",
    "    return res\n",
    "\n",
    "EPL_DF['PythagHome']= EPL_DF.apply(lambda row: EPL_Expected(row['HomeFor'],row['HomeAgainst']),axis=1)\n",
    "EPL_DF['PythagAway']= EPL_DF.apply(lambda row: EPL_Expected(row['AwayFor'],row['AwayAgainst']),axis=1)\n",
    "EPL_DF['Pythag']= EPL_DF.apply(lambda row: EPL_Expected(row['For'],row['Against']),axis=1)\n",
    "EPL_DF['SeasRank'] = EPL_DF.groupby(['Season'])['Pythag'].rank(method='first', ascending=False)\n",
    "    \n",
    "def PoissonSim(l,r): #l=average #r is random value\n",
    "    t=0\n",
    "    k=0\n",
    "    while t<r:\n",
    "        t=t+((np.e**(-l))*(l**k))/m.factorial(k)\n",
    "        k=k+1\n",
    "    return k-1\n",
    "\n",
    "Avg_HF=EPL_DF.HomeFor.mean()\n",
    "Avg_HA=EPL_DF.HomeAgainst.mean()\n",
    "\n",
    "def FullGameSim(HF,HA,AF,AA,Avg_HF,Avg_HA):\n",
    "    r1=np.random.rand()\n",
    "    r2=np.random.rand()\n",
    "    HF_Sim=PoissonSim((HF*AA)/Avg_HF,r1)\n",
    "    AF_Sim=PoissonSim((AF*HA)/Avg_HA,r2)\n",
    "    return Result(HF_Sim,AF_Sim),Result(AF_Sim,HF_Sim),HF_Sim,AF_Sim\n",
    "\n",
    "EPL_Averages=pd.DataFrame(pd.read_csv('EPl_Averages.csv'))"
   ]
  },
  {
   "cell_type": "markdown",
   "metadata": {},
   "source": [
    "All iterative commands"
   ]
  },
  {
   "cell_type": "code",
   "execution_count": 15,
   "metadata": {},
   "outputs": [
    {
     "data": {
      "text/plain": [
       "5.514883756637573"
      ]
     },
     "execution_count": 15,
     "metadata": {},
     "output_type": "execute_result"
    }
   ],
   "source": [
    "t_start=t.time()\n",
    "Num_Seasons=10\n",
    "Results=[]\n",
    "\n",
    "EPL_Sched=pd.DataFrame(pd.read_excel('EPL_Schedule.xlsx'))\n",
    "\n",
    "EPL_Sched[['HomeResult','AwayResult','HomeFor','AwayFor']]=np.NAN\n",
    "game=[]\n",
    "\n",
    "for s in range(0,Num_Seasons):\n",
    "    for i in range(0,EPL_Sched.shape[0]): \n",
    "        game=FullGameSim(EPL_Averages.iloc[EPL_Sched.iloc[i,0]-1,2]\n",
    "                         ,EPL_Averages.iloc[EPL_Sched.iloc[i,0]-1,3]\n",
    "                         ,EPL_Averages.iloc[EPL_Sched.iloc[i,1]-1,4]\n",
    "                         ,EPL_Averages.iloc[EPL_Sched.iloc[i,1]-1,5]\n",
    "                         ,Avg_HF,Avg_HA)\n",
    "        EPL_Sched.loc[i,'HomeResult':'AwayFor']=game\n",
    "\n",
    "    EPL_Standings=pd.DataFrame({'Team': range(1,21),'Result':np.zeros(20),'For':np.zeros(20),'Against':np.zeros(20)})\n",
    "    for i in range(1,21):\n",
    "        EPL_Standings.iloc[i-1,1]=(EPL_Sched.groupby('Home').mean().HomeResult[i]+\n",
    "                                   EPL_Sched.groupby('Away').mean().AwayResult[i])/2\n",
    "        EPL_Standings.iloc[i-1,2]=(EPL_Sched.groupby('Home').sum().HomeFor[i]+\n",
    "                                   EPL_Sched.groupby('Away').sum().AwayFor[i])\n",
    "        EPL_Standings.iloc[i-1,3]=(EPL_Sched.groupby('Home').sum().AwayFor[i]+\n",
    "                                   EPL_Sched.groupby('Away').sum().HomeFor[i])\n",
    "\n",
    "    EPL_Standings['Rank']=EPL_Standings.Result.rank(method='first', ascending=False) #Assign rank to each team\n",
    "    EPL_Standings['Sim']=s #Add simulation number to each table\n",
    "    \n",
    "    #Append the results array\n",
    "    if s==0:\n",
    "        Results=EPL_Standings\n",
    "    else:\n",
    "        Results=Results.append(EPL_Standings)\n",
    "    \n",
    "t_total=t.time()-t_start\n",
    "t_total"
   ]
  },
  {
   "cell_type": "code",
   "execution_count": 17,
   "metadata": {},
   "outputs": [
    {
     "data": {
      "text/plain": [
       "<AxesSubplot:>"
      ]
     },
     "execution_count": 17,
     "metadata": {},
     "output_type": "execute_result"
    },
    {
     "data": {
      "image/png": "[encoded data removed]",
      "text/plain": [
       "<Figure size 432x288 with 1 Axes>"
      ]
     },
     "metadata": {
      "needs_background": "light"
     },
     "output_type": "display_data"
    }
   ],
   "source": [
    "Results.loc[Results.Rank==1].Team.hist(bins=range(1,9),xlabelsize=10)"
   ]
  },
  {
   "cell_type": "code",
   "execution_count": null,
   "metadata": {},
   "outputs": [],
   "source": [
    "#Results.to_csv('EPL_Simulation_Results.csv')"
   ]
  }
 ],
 "metadata": {
  "kernelspec": {
   "display_name": "Python 3",
   "language": "python",
   "name": "python3"
  },
  "language_info": {
   "codemirror_mode": {
    "name": "ipython",
    "version": 3
   },
   "file_extension": ".py",
   "mimetype": "text/x-python",
   "name": "python",
   "nbconvert_exporter": "python",
   "pygments_lexer": "ipython3",
   "version": "3.8.5"
  }
 },
 "nbformat": 4,
 "nbformat_minor": 4
}
